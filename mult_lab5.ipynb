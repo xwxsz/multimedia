{
 "cells": [
  {
   "cell_type": "markdown",
   "id": "01246c73-7421-4538-a1d4-587739014e7a",
   "metadata": {},
   "source": [
    "# ЛР5 (Градиентный бустинг)"
   ]
  },
  {
   "cell_type": "code",
   "execution_count": 18,
   "id": "8e2abdb1-7a4b-4c09-85e6-9856c8899c3b",
   "metadata": {},
   "outputs": [],
   "source": [
    "import pandas as pd\n",
    "import numpy as np\n",
    "from sklearn.model_selection import train_test_split, GridSearchCV, StratifiedKFold, ParameterGrid, RandomizedSearchCV, cross_val_score\n",
    "from sklearn.preprocessing import LabelEncoder, StandardScaler, PolynomialFeatures\n",
    "from sklearn.metrics import accuracy_score, f1_score, mean_squared_error, r2_score, mean_absolute_error\n",
    "from sklearn.ensemble import RandomForestClassifier, RandomForestRegressor, GradientBoostingClassifier, GradientBoostingRegressor\n",
    "from collections import Counter\n",
    "from sklearn.pipeline import Pipeline\n",
    "from sklearn.tree import DecisionTreeClassifier, DecisionTreeRegressor\n",
    "from sklearn.base import BaseEstimator, RegressorMixin\n",
    "from sklearn.utils import resample\n",
    "import warnings\n",
    "warnings.filterwarnings(\"ignore\")"
   ]
  },
  {
   "cell_type": "markdown",
   "id": "cef9fc36-69e9-47f0-aa2c-6650849832f5",
   "metadata": {},
   "source": [
    "# Предобработка данных для задачи классификации"
   ]
  },
  {
   "cell_type": "code",
   "execution_count": 3,
   "id": "1e51197e-d940-490a-9901-ec80cfa4e0da",
   "metadata": {},
   "outputs": [],
   "source": [
    "data_classification = pd.read_csv(r'C:\\Users\\xwxsz\\Desktop\\Video_games_esrb_rating.csv')\n",
    "\n",
    "label_encoder = LabelEncoder()\n",
    "data_classification['title'] = label_encoder.fit_transform(data_classification['title'])\n",
    "data_classification['esrb_rating'] = label_encoder.fit_transform(data_classification['esrb_rating'])\n",
    "\n",
    "X = data_classification.drop('esrb_rating', axis=1) \n",
    "y = data_classification['esrb_rating'] \n",
    "X_train, X_test, y_train, y_test = train_test_split(X, y, test_size=0.2, random_state=42)"
   ]
  },
  {
   "cell_type": "markdown",
   "id": "60cfe65f-fef7-47c0-ac1f-915d763830d8",
   "metadata": {},
   "source": [
    "# Классификация (бейзлайн)"
   ]
  },
  {
   "cell_type": "code",
   "execution_count": 9,
   "id": "cc210bf9-e8c4-45b0-87fe-adbed2c8e13c",
   "metadata": {},
   "outputs": [
    {
     "name": "stdout",
     "output_type": "stream",
     "text": [
      "Gradient Boosting Accuracy: 0.862796833773087\n",
      "Gradient Boosting F1-score: 0.8645957756957025\n"
     ]
    }
   ],
   "source": [
    "# Бейзлайн: предсказание наиболее частого класса\n",
    "most_common_class = Counter(y_train).most_common(1)[0][0]\n",
    "y_pred_baseline = np.full_like(y_test, fill_value=most_common_class)\n",
    "\n",
    "# Градиентный бустинг\n",
    "gb_model = GradientBoostingClassifier(random_state=42)\n",
    "gb_model.fit(X_train, y_train)\n",
    "\n",
    "y_pred_gb = gb_model.predict(X_test)\n",
    "\n",
    "gb_accuracy = accuracy_score(y_test, y_pred_gb)\n",
    "gb_f1 = f1_score(y_test, y_pred_gb, average='weighted')\n",
    "\n",
    "print(f\"Gradient Boosting Accuracy: {gb_accuracy}\")\n",
    "print(f\"Gradient Boosting F1-score: {gb_f1}\")"
   ]
  },
  {
   "cell_type": "markdown",
   "id": "7abbd303-3ac8-493d-8092-9df99f6d3e57",
   "metadata": {},
   "source": [
    "# Классификация (улучшеный бейзлайн)"
   ]
  },
  {
   "cell_type": "code",
   "execution_count": 13,
   "id": "a45b9750-f0cb-400f-bafc-0fbc6b200518",
   "metadata": {},
   "outputs": [
    {
     "name": "stdout",
     "output_type": "stream",
     "text": [
      "Accuracy: 0.8575197889182058\n",
      "F1-score: 0.857851122513756\n"
     ]
    }
   ],
   "source": [
    "# Загрузка данных\n",
    "data_classification = pd.read_csv(r'C:\\Users\\xwxsz\\Desktop\\Video_games_esrb_rating.csv')\n",
    "\n",
    "# Предобработка данных\n",
    "label_encoder = LabelEncoder()\n",
    "data_classification['title'] = label_encoder.fit_transform(data_classification['title'])\n",
    "data_classification['esrb_rating'] = label_encoder.fit_transform(data_classification['esrb_rating'])\n",
    "\n",
    "X = data_classification.drop('esrb_rating', axis=1).values\n",
    "y = data_classification['esrb_rating'].values\n",
    "\n",
    "# Разделение на обучающую и тестовую выборки\n",
    "X_train, X_test, y_train, y_test = train_test_split(X, y, test_size=0.2, random_state=42)\n",
    "\n",
    "# Бейзлайн: предсказание наиболее частого класса\n",
    "most_common_class = Counter(y_train).most_common(1)[0][0]\n",
    "y_pred_baseline = np.full_like(y_test, fill_value=most_common_class)\n",
    "\n",
    "baseline_accuracy = accuracy_score(y_test, y_pred_baseline)\n",
    "\n",
    "# Улучшение модели с помощью Градиентного Бустинга и гиперпараметрической настройки\n",
    "pipeline = Pipeline([\n",
    "    (\"scaler\", StandardScaler()),\n",
    "    (\"gb\", GradientBoostingClassifier(random_state=42))\n",
    "])\n",
    "\n",
    "param_grid = {\n",
    "    \"gb__n_estimators\": [100, 200, 300],\n",
    "    \"gb__learning_rate\": [0.01, 0.1, 0.2],\n",
    "    \"gb__max_depth\": [3, 4, 5],\n",
    "    \"gb__subsample\": [0.8, 1.0]\n",
    "}\n",
    "\n",
    "grid_search = GridSearchCV(pipeline, param_grid, cv=3, scoring='f1_weighted', n_jobs=-1)\n",
    "grid_search.fit(X_train, y_train)\n",
    "\n",
    "# Лучшая модель\n",
    "best_model = grid_search.best_estimator_\n",
    "y_pred_best = best_model.predict(X_test)\n",
    "\n",
    "# Оценка улучшенной модели\n",
    "best_accuracy = accuracy_score(y_test, y_pred_best)\n",
    "best_f1 = f1_score(y_test, y_pred_best, average='weighted')\n",
    "\n",
    "print(f\"Accuracy: {best_accuracy}\")\n",
    "print(f\"F1-score: {best_f1}\")"
   ]
  },
  {
   "cell_type": "markdown",
   "id": "9974ebc5-308b-4662-89d3-c59a5d298d25",
   "metadata": {},
   "source": [
    "# Классификация (самостоятельная имплементация)"
   ]
  },
  {
   "cell_type": "code",
   "execution_count": 14,
   "id": "82772a11-7e99-44ab-9130-70f9af3fa825",
   "metadata": {},
   "outputs": [],
   "source": [
    "# Самостоятельная реализация градиентного бустинга для классификации\n",
    "class GradientBoostingClassifierCustom:\n",
    "    def __init__(self, n_estimators=100, learning_rate=0.1, max_depth=3):\n",
    "        self.n_estimators = n_estimators\n",
    "        self.learning_rate = learning_rate\n",
    "        self.max_depth = max_depth\n",
    "        self.models = []\n",
    "        self.classes = None\n",
    "\n",
    "    def fit(self, X, y):\n",
    "        self.classes = np.unique(y)\n",
    "        y_encoded = self._one_hot_encode(y)\n",
    "        \n",
    "        # Инициализация предсказаний вероятностей равномерными значениями\n",
    "        predictions = np.zeros_like(y_encoded, dtype=np.float64)\n",
    "\n",
    "        for _ in range(self.n_estimators):\n",
    "            residuals = y_encoded - self._softmax(predictions)\n",
    "            model = []\n",
    "\n",
    "            for k in range(len(self.classes)):\n",
    "                tree = DecisionTreeRegressor(max_depth=self.max_depth)\n",
    "                tree.fit(X, residuals[:, k])\n",
    "                model.append(tree)\n",
    "                predictions[:, k] += self.learning_rate * tree.predict(X)\n",
    "\n",
    "            self.models.append(model)\n",
    "\n",
    "    def predict(self, X):\n",
    "        predictions = np.zeros((X.shape[0], len(self.classes)), dtype=np.float64)\n",
    "\n",
    "        for model in self.models:\n",
    "            for k, tree in enumerate(model):\n",
    "                predictions[:, k] += self.learning_rate * tree.predict(X)\n",
    "\n",
    "        return np.argmax(self._softmax(predictions), axis=1)\n",
    "\n",
    "    def _one_hot_encode(self, y):\n",
    "        encoded = np.zeros((len(y), len(self.classes)))\n",
    "        for i, label in enumerate(y):\n",
    "            encoded[i, label] = 1\n",
    "        return encoded\n",
    "\n",
    "    def _softmax(self, z):\n",
    "        exp_z = np.exp(z - np.max(z, axis=1, keepdims=True))\n",
    "        return exp_z / np.sum(exp_z, axis=1, keepdims=True)"
   ]
  },
  {
   "cell_type": "code",
   "execution_count": 15,
   "id": "b934aadb-477d-4ca3-9d95-20ee66ba5c99",
   "metadata": {},
   "outputs": [
    {
     "name": "stdout",
     "output_type": "stream",
     "text": [
      "\n",
      "Custom Gradient Boosting Metrics:\n",
      "Accuracy: 0.8258575197889182\n",
      "F1-score: 0.8283595364212384\n"
     ]
    }
   ],
   "source": [
    "# Обучение собственной реализации градиентного бустинга\n",
    "custom_gb = GradientBoostingClassifierCustom(n_estimators=100, learning_rate=0.1, max_depth=3)\n",
    "custom_gb.fit(X_train, y_train)\n",
    "\n",
    "# Предсказание\n",
    "y_pred_custom = custom_gb.predict(X_test)\n",
    "\n",
    "# Оценка модели\n",
    "custom_accuracy = accuracy_score(y_test, y_pred_custom)\n",
    "custom_f1 = f1_score(y_test, y_pred_custom, average='weighted')\n",
    "\n",
    "print(\"\\nCustom Gradient Boosting Metrics:\")\n",
    "print(f\"Accuracy: {custom_accuracy}\")\n",
    "print(f\"F1-score: {custom_f1}\")"
   ]
  },
  {
   "cell_type": "markdown",
   "id": "07c19e17-4a18-4a44-b6b9-6a22890f50a3",
   "metadata": {},
   "source": [
    "# Предобработка данных для задачи регрессии"
   ]
  },
  {
   "cell_type": "code",
   "execution_count": 16,
   "id": "8a0026a2-ba40-471d-b5d4-28b5cd1e54ce",
   "metadata": {},
   "outputs": [],
   "source": [
    "data_regression = pd.read_excel(r'C:\\Users\\xwxsz\\Desktop\\Real estate valuation data set.xlsx')\n",
    "X = data_regression.drop(columns=['Y house price of unit area'])\n",
    "y = data_regression['Y house price of unit area']\n",
    "X_train, X_test, y_train, y_test = train_test_split(X, y, test_size=0.2, random_state=42)"
   ]
  },
  {
   "cell_type": "markdown",
   "id": "331f8e61-2524-4b9d-9ff5-e4d33683cfad",
   "metadata": {},
   "source": [
    "# Регрессия (бейзлайн)"
   ]
  },
  {
   "cell_type": "code",
   "execution_count": 19,
   "id": "a8e376f9-6a05-4361-a4b4-05a46948dd2e",
   "metadata": {},
   "outputs": [
    {
     "name": "stdout",
     "output_type": "stream",
     "text": [
      "MAE: 4.083143821562733\n",
      "R2: 0.7799860116073392\n"
     ]
    }
   ],
   "source": [
    "# Бейзлайн: среднее значение обучающей выборки\n",
    "baseline_pred = np.full_like(y_test, y_train.mean())\n",
    "\n",
    "# Градиентный бустинг\n",
    "gb_model = GradientBoostingRegressor(random_state=42, n_estimators=100, learning_rate=0.1, max_depth=3)\n",
    "gb_model.fit(X_train, y_train)\n",
    "\n",
    "y_pred_gb = gb_model.predict(X_test)\n",
    "\n",
    "gb_mae = mean_absolute_error(y_test, y_pred_gb)\n",
    "gb_r2 = r2_score(y_test, y_pred_gb)\n",
    "\n",
    "print(f\"MAE: {gb_mae}\")\n",
    "print(f\"R2: {gb_r2}\")"
   ]
  },
  {
   "cell_type": "markdown",
   "id": "3d6d24d8-b426-4b31-b2fd-e5576724cc55",
   "metadata": {},
   "source": [
    "# Регрессия (улучшенный бейзлайн)"
   ]
  },
  {
   "cell_type": "code",
   "execution_count": 20,
   "id": "1950b365-3d70-4282-bf69-7906ea6c4857",
   "metadata": {},
   "outputs": [
    {
     "name": "stdout",
     "output_type": "stream",
     "text": [
      "Fitting 5 folds for each of 162 candidates, totalling 810 fits\n",
      "MAE: 3.935477685692727\n",
      "R2: 0.8004287033391411\n"
     ]
    }
   ],
   "source": [
    "# Бейзлайн: среднее значение обучающей выборки\n",
    "baseline_pred = np.full_like(y_test, y_train.mean())\n",
    "\n",
    "# Оптимизация гиперпараметров для градиентного бустинга\n",
    "param_grid = {\n",
    "    'n_estimators': [100, 200, 300],\n",
    "    'learning_rate': [0.05, 0.1, 0.2],\n",
    "    'max_depth': [3, 5, 7],\n",
    "    'subsample': [0.8, 1.0],\n",
    "    'min_samples_split': [2, 5, 10],\n",
    "}\n",
    "\n",
    "gb_model = GradientBoostingRegressor(random_state=42)\n",
    "grid_search = GridSearchCV(estimator=gb_model, param_grid=param_grid, cv=5, scoring='neg_mean_squared_error', verbose=1, n_jobs=-1)\n",
    "grid_search.fit(X_train, y_train)\n",
    "\n",
    "# Лучшая модель\n",
    "best_gb_model = grid_search.best_estimator_\n",
    "y_pred_best_gb = best_gb_model.predict(X_test)\n",
    "\n",
    "best_gb_mae = mean_absolute_error(y_test, y_pred_best_gb)\n",
    "best_gb_r2 = r2_score(y_test, y_pred_best_gb)\n",
    "\n",
    "print(f\"MAE: {best_gb_mae}\")\n",
    "print(f\"R2: {best_gb_r2}\")\n"
   ]
  },
  {
   "cell_type": "markdown",
   "id": "8ac27597-b19f-4ed3-aa13-cfd057801fbd",
   "metadata": {},
   "source": [
    "# Регрессия (самостоятельная имплементация)"
   ]
  },
  {
   "cell_type": "code",
   "execution_count": 21,
   "id": "b6d1b04a-3324-483d-b3d1-1e8bd304ec41",
   "metadata": {},
   "outputs": [],
   "source": [
    "# Самостоятельная реализация градиентного бустинга\n",
    "class GradientBoostingRegressorCustom:\n",
    "    def __init__(self, n_estimators=100, learning_rate=0.1, max_depth=3):\n",
    "        self.n_estimators = n_estimators\n",
    "        self.learning_rate = learning_rate\n",
    "        self.max_depth = max_depth\n",
    "        self.models = []\n",
    "        self.init_prediction = None\n",
    "\n",
    "    def fit(self, X, y):\n",
    "        self.init_prediction = np.mean(y)\n",
    "        residual = y - self.init_prediction\n",
    "\n",
    "        for _ in range(self.n_estimators):\n",
    "            model = DecisionTreeRegressor(max_depth=self.max_depth)\n",
    "            model.fit(X, residual)\n",
    "            self.models.append(model)\n",
    "\n",
    "            predictions = model.predict(X)\n",
    "            residual -= self.learning_rate * predictions\n",
    "\n",
    "    def predict(self, X):\n",
    "        prediction = np.full(X.shape[0], self.init_prediction)\n",
    "        for model in self.models:\n",
    "            prediction += self.learning_rate * model.predict(X)\n",
    "        return prediction"
   ]
  },
  {
   "cell_type": "code",
   "execution_count": 22,
   "id": "3f7bf37d-7698-43de-8a89-b4afbc47a1b8",
   "metadata": {},
   "outputs": [
    {
     "name": "stdout",
     "output_type": "stream",
     "text": [
      "MAE: 4.072886304831286\n",
      "R2: 0.7819252789346214\n"
     ]
    }
   ],
   "source": [
    "# Обучение модели\n",
    "custom_gb_model = GradientBoostingRegressorCustom(n_estimators=100, learning_rate=0.1, max_depth=3)\n",
    "custom_gb_model.fit(X_train.values, y_train.values)\n",
    "\n",
    "y_pred_custom_gb = custom_gb_model.predict(X_test.values)\n",
    "\n",
    "custom_gb_mae = mean_absolute_error(y_test, y_pred_custom_gb)\n",
    "custom_gb_r2 = r2_score(y_test, y_pred_custom_gb)\n",
    "\n",
    "print(f\"MAE: {custom_gb_mae}\")\n",
    "print(f\"R2: {custom_gb_r2}\")"
   ]
  },
  {
   "cell_type": "code",
   "execution_count": 23,
   "id": "b4ac0e24-59e0-4562-9873-165eff0f846e",
   "metadata": {},
   "outputs": [],
   "source": [
    "# Улучшенная реализация градиентного бустинга\n",
    "class GradientBoostingRegressorImproved:\n",
    "    def __init__(self, n_estimators=100, learning_rate=0.1, max_depth=3, min_samples_split=2, min_samples_leaf=1):\n",
    "        self.n_estimators = n_estimators\n",
    "        self.learning_rate = learning_rate\n",
    "        self.max_depth = max_depth\n",
    "        self.min_samples_split = min_samples_split\n",
    "        self.min_samples_leaf = min_samples_leaf\n",
    "        self.models = []\n",
    "        self.init_prediction = None\n",
    "\n",
    "    def fit(self, X, y):\n",
    "        self.init_prediction = np.mean(y)\n",
    "        residual = y - self.init_prediction\n",
    "\n",
    "        for _ in range(self.n_estimators):\n",
    "            model = DecisionTreeRegressor(\n",
    "                max_depth=self.max_depth,\n",
    "                min_samples_split=self.min_samples_split,\n",
    "                min_samples_leaf=self.min_samples_leaf\n",
    "            )\n",
    "            model.fit(X, residual)\n",
    "            self.models.append(model)\n",
    "\n",
    "            predictions = model.predict(X)\n",
    "            residual -= self.learning_rate * predictions\n",
    "\n",
    "    def predict(self, X):\n",
    "        prediction = np.full(X.shape[0], self.init_prediction)\n",
    "        for model in self.models:\n",
    "            prediction += self.learning_rate * model.predict(X)\n",
    "        return prediction"
   ]
  },
  {
   "cell_type": "code",
   "execution_count": 24,
   "id": "e1425b12-8631-4b05-a610-b0ae47005497",
   "metadata": {},
   "outputs": [
    {
     "name": "stdout",
     "output_type": "stream",
     "text": [
      "MAE: 3.935219334924898\n",
      "R2: 0.7917778988478528\n"
     ]
    }
   ],
   "source": [
    "improved_gb_model = GradientBoostingRegressorImproved(\n",
    "    n_estimators=150, learning_rate=0.05, max_depth=4, min_samples_split=5, min_samples_leaf=2\n",
    ")\n",
    "improved_gb_model.fit(X_train.values, y_train.values)\n",
    "\n",
    "y_pred_improved_gb = improved_gb_model.predict(X_test.values)\n",
    "\n",
    "improved_gb_mae = mean_absolute_error(y_test, y_pred_improved_gb)\n",
    "improved_gb_r2 = r2_score(y_test, y_pred_improved_gb)\n",
    "\n",
    "print(f\"MAE: {improved_gb_mae}\")\n",
    "print(f\"R2: {improved_gb_r2}\")"
   ]
  },
  {
   "cell_type": "code",
   "execution_count": null,
   "id": "485b4fe6-9607-425c-91cb-f7d6304ceb6e",
   "metadata": {},
   "outputs": [],
   "source": []
  }
 ],
 "metadata": {
  "kernelspec": {
   "display_name": "Python 3 (ipykernel)",
   "language": "python",
   "name": "python3"
  },
  "language_info": {
   "codemirror_mode": {
    "name": "ipython",
    "version": 3
   },
   "file_extension": ".py",
   "mimetype": "text/x-python",
   "name": "python",
   "nbconvert_exporter": "python",
   "pygments_lexer": "ipython3",
   "version": "3.12.4"
  }
 },
 "nbformat": 4,
 "nbformat_minor": 5
}
